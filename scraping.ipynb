{
 "cells": [
  {
   "cell_type": "code",
   "execution_count": 13,
   "metadata": {},
   "outputs": [],
   "source": [
    "import csv\n",
    "import pandas as pd\n",
    "from getpass import getpass\n",
    "from time import sleep \n",
    "from selenium.webdriver.common.keys import Keys\n",
    "from selenium.webdriver.common.by import By\n",
    "from selenium.common.exceptions import NoSuchElementException\n",
    "from webdriver_manager.chrome import ChromeDriverManager\n",
    "from selenium.webdriver import Chrome"
   ]
  },
  {
   "cell_type": "code",
   "execution_count": null,
   "metadata": {},
   "outputs": [],
   "source": [
    "driver = Chrome(ChromeDriverManager().install())\n",
    "sleep(2)\n",
    "driver.get(\"https://twitter.com/login\")"
   ]
  },
  {
   "cell_type": "code",
   "execution_count": 15,
   "metadata": {},
   "outputs": [],
   "source": [
    "sleep(3)\n",
    "username = driver.find_element(By.XPATH,\"//input[@name='text']\")\n",
    "username.send_keys('rcnexrt')\n",
    "\n",
    "sleep(1)\n",
    "next_btn = driver.find_element(By.XPATH, \"//span[contains(text(),'Next')]\")\n",
    "next_btn.click()"
   ]
  },
  {
   "cell_type": "code",
   "execution_count": 16,
   "metadata": {},
   "outputs": [
    {
     "name": "stdout",
     "output_type": "stream",
     "text": [
      "········\n"
     ]
    }
   ],
   "source": [
    "pw = getpass()"
   ]
  },
  {
   "cell_type": "code",
   "execution_count": 17,
   "metadata": {},
   "outputs": [],
   "source": [
    "sleep(3)\n",
    "password = driver.find_element(By.XPATH,\"//input[@name='password']\")\n",
    "password.send_keys(pw)\n",
    "\n",
    "sleep(1)\n",
    "log_in = driver.find_element(By.XPATH, \"//span[contains(text(),'Log in')]\")\n",
    "log_in.click()"
   ]
  },
  {
   "cell_type": "code",
   "execution_count": 19,
   "metadata": {},
   "outputs": [
    {
     "name": "stdout",
     "output_type": "stream",
     "text": [
      "Keyword apa yang ingin dicari: apbn\n"
     ]
    }
   ],
   "source": [
    "key_word = input(\"Keyword apa yang ingin dicari: \")\n",
    "sleep(3)\n",
    "profile = driver.find_element(By.XPATH, \"//input[@placeholder='Search Twitter']\")\n",
    "profile.send_keys(key_word)\n",
    "profile.send_keys(Keys.RETURN)\n",
    "\n",
    "# sleep(1)\n",
    "# target_acc = driver.find_element(By.XPATH, \"//span[contains(text(),'@abinwong')]\")\n",
    "# target_acc.click()"
   ]
  },
  {
   "cell_type": "code",
   "execution_count": 21,
   "metadata": {},
   "outputs": [],
   "source": [
    "def scraper(n_unique):\n",
    "    timestamps = [] \n",
    "    names = []\n",
    "    usernames = []\n",
    "    tweets = []\n",
    "    replys = []\n",
    "    retweets = []\n",
    "    likes = []\n",
    "\n",
    "    last_position = driver.execute_script(\"return window.pageYOffset;\")\n",
    "\n",
    "    while True:\n",
    "        articles = driver.find_elements(By.XPATH, \"//article[@data-testid='tweet']\")\n",
    "        for article in articles:\n",
    "\n",
    "            usertag = driver.find_element(By.XPATH, \".//div[@data-testid='User-Names']\").text\n",
    "            name, username = usertag.split(\"\\n\")[:2]\n",
    "            names.append(name)\n",
    "            usernames.append(username)\n",
    "\n",
    "            timestamp = driver.find_element(By.XPATH, \".//time\").get_attribute(\"datetime\")\n",
    "            timestamps.append(timestamp)\n",
    "\n",
    "            tweet = driver.find_element(By.XPATH, \".//div[@data-testid='tweetText']\").text\n",
    "            tweets.append(tweet)\n",
    "\n",
    "            reply = driver.find_element(By.XPATH, \".//div[@data-testid='reply']\").text\n",
    "            replys.append(reply)\n",
    "\n",
    "            like = driver.find_element(By.XPATH, \".//div[@data-testid='like']\").text\n",
    "            likes.append(like)\n",
    "\n",
    "            retweet = driver.find_element(By.XPATH, \".//div[@data-testid='retweet']\").text\n",
    "            retweets.append(retweet)\n",
    "\n",
    "        driver.execute_script(\"window.scrollTo(0,document.body.scrollHeight);\")\n",
    "        articles = driver.find_elements(By.XPATH, \"//article[@data-testid='tweet']\")\n",
    "        tweets2 = list(set(tweets))\n",
    "        print(len(set(tweets2)))\n",
    "        sleep(1)\n",
    "        \n",
    "        if len(tweets2) > n_unique:\n",
    "            break\n",
    "    \n",
    "    df = pd.DataFrame(zip(timestamps,tweets,replys,retweets,likes,names,usernames), \n",
    "                    columns=[\"timestamp\",\"tweet\",\"reply\",\"retweet\",\"like\",\"name\",\"username\"])\n",
    "    df = df.drop_duplicates(subset=[\"tweet\"])\n",
    "    return df\n",
    "\n",
    "def cleaner(df):\n",
    "    df = df.drop_duplicates(subset=[\"tweet\"])\n",
    "    df[\"date\"] = pd.to_datetime(df[\"timestamp\"]).dt.strftime(\"%d-%b-%Y\")\n",
    "    return df"
   ]
  },
  {
   "cell_type": "code",
   "execution_count": 12,
   "metadata": {},
   "outputs": [],
   "source": [
    "df = scraper(100)\n",
    "dfa = cleaner(df)\n",
    "dfa.to_csv(f\"scrape_{key_word}.csv\")"
   ]
  }
 ],
 "metadata": {
  "kernelspec": {
   "display_name": "Python 3.10.7 64-bit",
   "language": "python",
   "name": "python3"
  },
  "language_info": {
   "codemirror_mode": {
    "name": "ipython",
    "version": 3
   },
   "file_extension": ".py",
   "mimetype": "text/x-python",
   "name": "python",
   "nbconvert_exporter": "python",
   "pygments_lexer": "ipython3",
   "version": "3.10.7"
  },
  "vscode": {
   "interpreter": {
    "hash": "26de051ba29f2982a8de78e945f0abaf191376122a1563185a90213a26c5da77"
   }
  }
 },
 "nbformat": 4,
 "nbformat_minor": 2
}
